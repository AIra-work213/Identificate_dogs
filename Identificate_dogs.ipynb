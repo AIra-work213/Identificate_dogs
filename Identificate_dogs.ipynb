{
 "cells": [
  {
   "cell_type": "code",
   "execution_count": 2,
   "metadata": {},
   "outputs": [],
   "source": [
    "import torch\n",
    "import PIL.Image as Image\n",
    "from collections import OrderedDict\n",
    "import torchvision.transforms.v2 as tr"
   ]
  },
  {
   "cell_type": "code",
   "execution_count": 4,
   "metadata": {},
   "outputs": [
    {
     "data": {
      "text/plain": [
       "Identifikator(\n",
       "  (func): Sequential(\n",
       "    (0): Conv2d(3, 25, kernel_size=(3, 3), stride=(1, 1), padding=(1, 1), bias=False)\n",
       "    (1): BatchNorm2d(10, eps=1e-05, momentum=0.1, affine=True, track_running_stats=True)\n",
       "    (2): MaxPool2d(kernel_size=5, stride=5, padding=0, dilation=1, ceil_mode=False)\n",
       "    (3): Conv2d(25, 100, kernel_size=(3, 3), stride=(1, 1), padding=(1, 1), bias=False)\n",
       "    (4): BatchNorm2d(100, eps=1e-05, momentum=0.1, affine=True, track_running_stats=True)\n",
       "    (5): MaxPool2d(kernel_size=2, stride=2, padding=0, dilation=1, ceil_mode=False)\n",
       "    (6): Linear(in_features=2500, out_features=1000, bias=True)\n",
       "    (7): ReLU(inplace=True)\n",
       "    (8): Linear(in_features=1000, out_features=120, bias=True)\n",
       "  )\n",
       ")"
      ]
     },
     "execution_count": 4,
     "metadata": {},
     "output_type": "execute_result"
    }
   ],
   "source": [
    "class Dataset(torch.utils.data.Dataset):\n",
    "    def __init__(self):\n",
    "        super().__init__()\n",
    "        self.f = open('data/dog-breed-identification/labels.csv')\n",
    "        self.f = self.f.read().split()[1:]\n",
    "        for i in range(len(self.f)):\n",
    "            self.f[i] = self.f[i].split(',')\n",
    "        self.uniqs = list(set([self.f[i][1] for i in range(len(self.f))])) # все породы собак\n",
    "        self.categories = OrderedDict([(self.uniqs[i], i) for i in range(len(self.uniqs))]) # все породы собак с их индексами\n",
    "        self.transforms = tr.Compose([\n",
    "            tr.Resize((500, 500)),\n",
    "            tr.ToImage(),\n",
    "            tr.ToDtype(torch.float32, scale=True)\n",
    "        ])\n",
    "\n",
    "    def __getitem__(self, index):\n",
    "        return (self.transforms(Image.open(f'data/dog-breed-identification/train/{self.f[index][0]}.jpg').convert('RGB')), self.categories[self.f[index][1]])\n",
    "\n",
    "    def __len__(self):\n",
    "        return len(self.f)\n",
    "    \n",
    "\n",
    "class Identifikator(torch.nn.Module):\n",
    "    def __init__(self):\n",
    "        super().__init__()\n",
    "        self.func = torch.nn.Sequential(\n",
    "            torch.nn.Conv2d(3, 25, 3, 1, 1, bias=False),\n",
    "            torch.nn.BatchNorm2d(10),\n",
    "            torch.nn.MaxPool2d(5),\n",
    "            torch.nn.Conv2d(25, 100, 3, 1, 1, bias=False),\n",
    "            torch.nn.BatchNorm2d(100),\n",
    "            torch.nn.MaxPool2d(2),\n",
    "            torch.nn.Linear(2500, 1000),\n",
    "            torch.nn.ReLU(True),\n",
    "            torch.nn.Linear(1000, 120)\n",
    "        )\n",
    "\n",
    "    def forward(self, x):\n",
    "        return self.func(x)\n",
    "\n",
    "\n",
    "data = Dataset()\n",
    "train_dataset, test_dataset = torch.utils.data.random_split(data, [0.75, 0.25])\n",
    "train_data = torch.utils.data.DataLoader(train_dataset, 10, True)\n",
    "test_data = torch.utils.data.DataLoader(test_dataset, 10, True)\n",
    "\n",
    "model=Identifikator()\n",
    "model.train()\n"
   ]
  }
 ],
 "metadata": {
  "kernelspec": {
   "display_name": "venv",
   "language": "python",
   "name": "python3"
  },
  "language_info": {
   "codemirror_mode": {
    "name": "ipython",
    "version": 3
   },
   "file_extension": ".py",
   "mimetype": "text/x-python",
   "name": "python",
   "nbconvert_exporter": "python",
   "pygments_lexer": "ipython3",
   "version": "3.12.3"
  }
 },
 "nbformat": 4,
 "nbformat_minor": 2
}
