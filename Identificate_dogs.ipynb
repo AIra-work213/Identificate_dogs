{
 "cells": [
  {
   "cell_type": "code",
   "execution_count": 22,
   "metadata": {},
   "outputs": [],
   "source": [
    "import torch\n",
    "import PIL.Image as Image\n",
    "from collections import OrderedDict"
   ]
  },
  {
   "cell_type": "code",
   "execution_count": null,
   "metadata": {},
   "outputs": [],
   "source": [
    "class Dataset(torch.utils.data.Dataset):\n",
    "    def __init__(self):\n",
    "        super().__init__()\n",
    "        self.f = open('data/dog-breed-identification/labels.csv')\n",
    "        self.f = self.f.read().split()[1:]\n",
    "        for i in range(len(self.f)):\n",
    "            self.f[i] = self.f[i].split(',')\n",
    "        self.uniqs = list(set([self.f[i][1] for i in range(len(self.f))])) # все породы собак\n",
    "        self.categories = OrderedDict([(self.uniqs[i], i) for i in range(len(self.uniqs))]) # все породы собак с их индексами\n",
    "\n",
    "    def __getitem__(self, index):\n",
    "        return (Image.open(f'data/dog-breed-identification/train/{self.f[index][0]}.jpg').convert('RGB'), self.categories[self.f[index][1]])\n",
    "\n",
    "    def __len__(self):\n",
    "        return len(self.f)\n",
    "    \n",
    "\n",
    "data = Dataset()\n",
    "train_dataset, test_dataset = torch.utils.data.random_split(data, [0.75, 0.25])\n",
    "train_data = torch.utils.data.DataLoader(train_dataset, 10, True)\n",
    "test_data = torch.utils.data.DataLoader(test_dataset, 10, True)\n",
    "\n",
    "\n"
   ]
  }
 ],
 "metadata": {
  "kernelspec": {
   "display_name": "venv",
   "language": "python",
   "name": "python3"
  },
  "language_info": {
   "codemirror_mode": {
    "name": "ipython",
    "version": 3
   },
   "file_extension": ".py",
   "mimetype": "text/x-python",
   "name": "python",
   "nbconvert_exporter": "python",
   "pygments_lexer": "ipython3",
   "version": "3.12.3"
  }
 },
 "nbformat": 4,
 "nbformat_minor": 2
}
